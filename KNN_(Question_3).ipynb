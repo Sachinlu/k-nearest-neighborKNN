{
  "nbformat": 4,
  "nbformat_minor": 0,
  "metadata": {
    "colab": {
      "name": "KNN_(Final).ipynb",
      "provenance": [],
      "collapsed_sections": []
    },
    "kernelspec": {
      "name": "python3",
      "display_name": "Python 3"
    },
    "language_info": {
      "name": "python"
    }
  },
  "cells": [
    {
      "cell_type": "code",
      "metadata": {
        "colab": {
          "base_uri": "https://localhost:8080/"
        },
        "id": "wOfackNNQmzF",
        "outputId": "c5a52a02-b5ef-4f94-c83c-a1d5394d873b"
      },
      "source": [
        "# Important Imports \n",
        "import glob\n",
        "%pylab inline"
      ],
      "execution_count": 10,
      "outputs": [
        {
          "output_type": "stream",
          "name": "stdout",
          "text": [
            "Populating the interactive namespace from numpy and matplotlib\n"
          ]
        }
      ]
    },
    {
      "cell_type": "code",
      "metadata": {
        "id": "rj1m7yLGQKhq"
      },
      "source": [
        "#Reading all files from given dataset 1 \n",
        "path = r'/content/drive/MyDrive/Pattern Rec/training_validation' # use your path\n",
        "all_files = glob.glob(path + \"/class_[0-9]_*\")"
      ],
      "execution_count": 11,
      "outputs": []
    },
    {
      "cell_type": "code",
      "metadata": {
        "colab": {
          "base_uri": "https://localhost:8080/"
        },
        "id": "blOLmUcuTDMF",
        "outputId": "d9f2c78c-39ba-4c78-caa4-ae5202586fa6"
      },
      "source": [
        "# Creating data frame to store the files content.\n",
        "print(f\"total no of files found: {len(all_files)}\")\n",
        "\n",
        "main_data = pd.DataFrame(columns=range(0, 1025))\n",
        "print(f\"main dataframe created with shape: {main_data.shape}\")"
      ],
      "execution_count": 12,
      "outputs": [
        {
          "output_type": "stream",
          "name": "stdout",
          "text": [
            "total no of files found: 1934\n",
            "main dataframe created with shape: (0, 1025)\n"
          ]
        }
      ]
    },
    {
      "cell_type": "code",
      "metadata": {
        "id": "kkxgOhWgWM7d"
      },
      "source": [
        "# convert the value into list comma seperated value\n",
        "def to_list(li):\n",
        "  l = []\n",
        "  for i in range(32):\n",
        "    l.extend(list(li['data'][i]))\n",
        "\n",
        "  return l"
      ],
      "execution_count": 13,
      "outputs": []
    },
    {
      "cell_type": "code",
      "metadata": {
        "id": "yTsckuNIcOQB"
      },
      "source": [
        "# To store all the file content values in dict format.\n",
        "mydic = {}\n",
        "def create_dict(myList, outputClass):\n",
        "  for i in range(len(myList)+1):\n",
        "    if i == 1024:\n",
        "      mydic[i] = outputClass\n",
        "    else:\n",
        "      mydic[i] = myList[i]\n",
        "    \n",
        "  return mydic\n"
      ],
      "execution_count": 14,
      "outputs": []
    },
    {
      "cell_type": "code",
      "metadata": {
        "id": "1diNuNPvWTsa"
      },
      "source": [
        "# flatining the data set  \n",
        "for filenames in all_files:\n",
        "  # find the class name of the file\n",
        "  class_name = str(filenames[(filenames.find('class_') + 6)])\n",
        "  # pick one smaple file from class each time\n",
        "  temp = pd.read_csv(filenames, names=[\"data\"])\n",
        "  # convert in list\n",
        "  to_append = to_list(temp)\n",
        "  # append in dict\n",
        "  myDict = create_dict(to_append, class_name)\n",
        "  # Create a dataframe\n",
        "  main_data = main_data.append(myDict, ignore_index=True)"
      ],
      "execution_count": 15,
      "outputs": []
    },
    {
      "cell_type": "code",
      "metadata": {
        "colab": {
          "base_uri": "https://localhost:8080/"
        },
        "id": "ViU2NQFWXyuX",
        "outputId": "cebfc7dd-1040-438f-a09f-d26fc2b0a5f1"
      },
      "source": [
        "# Printing the shape of main_data frame. It consist of 1934 rows (no of files data) X (1024 faetures + 1(at 1025) target value)\n",
        "main_data.shape"
      ],
      "execution_count": 16,
      "outputs": [
        {
          "output_type": "execute_result",
          "data": {
            "text/plain": [
              "(1934, 1025)"
            ]
          },
          "metadata": {},
          "execution_count": 16
        }
      ]
    },
    {
      "cell_type": "code",
      "metadata": {
        "id": "RxZN4kMwkjsI"
      },
      "source": [
        "# Preparing data for the model\n",
        "X = main_data[[i for i in range(1024)]].to_numpy()\n",
        "y= main_data[[1024]].to_numpy()\n",
        "y = y.ravel()"
      ],
      "execution_count": 17,
      "outputs": []
    },
    {
      "cell_type": "markdown",
      "metadata": {
        "id": "okPJaMN7TBfU"
      },
      "source": [
        "Designing the **KNN**"
      ]
    },
    {
      "cell_type": "code",
      "metadata": {
        "id": "qebzMYThhysx"
      },
      "source": [
        "# this function will help us calculating Euclidean Distance\n",
        "def Euclidean_d(row1, row2):\n",
        "   return np.sqrt(np.sum((row1 - row2)**2))"
      ],
      "execution_count": 20,
      "outputs": []
    },
    {
      "cell_type": "code",
      "metadata": {
        "id": "PabIE3xCtFMe"
      },
      "source": [
        "# Calculate accuracy percentage\n",
        "def accuracy(y_true, y_pred):\n",
        "        accuracy = np.sum(y_true == y_pred) / len(y_true)\n",
        "        return accuracy"
      ],
      "execution_count": 21,
      "outputs": []
    },
    {
      "cell_type": "code",
      "metadata": {
        "id": "WktwfPlUuF24"
      },
      "source": [
        "from collections import Counter\n",
        "class KNN:\n",
        "\n",
        "  def __init__(self, k=3):\n",
        "    self.k = k\n",
        "\n",
        "  # There is no learning involve hence just storing the data\n",
        "  def fit(self, X, y):\n",
        "    self.X_train = X\n",
        "    self.y_train = y\n",
        "\n",
        "  # Predicting the class\n",
        "  def predict(self, X):\n",
        "     predicted_labels = [self._predict(x) for x in X]\n",
        "     return np.array(predicted_labels)\n",
        "\n",
        "  def _predict(self, x):\n",
        "    #compute distance \n",
        "    distances = [Euclidean_d(x, x_train) for x_train in self.X_train]\n",
        "    #get the k nearest samples, labels\n",
        "    k_indices = np.argsort(distances)[:self.k]\n",
        "    closest_label = [self.y_train[i] for i in k_indices]\n",
        "    #Return the major class.\n",
        "    guessed = Counter(closest_label).most_common(1)\n",
        "    return guessed[0][0]"
      ],
      "execution_count": 30,
      "outputs": []
    },
    {
      "cell_type": "markdown",
      "metadata": {
        "id": "NUvpCFbFUwSa"
      },
      "source": [
        "**REFERENCE:-** https://github.com/python-engineer/MLfromscratch"
      ]
    },
    {
      "cell_type": "code",
      "metadata": {
        "id": "k8dkWrpLVZDH"
      },
      "source": [
        "from sklearn.model_selection import train_test_split"
      ],
      "execution_count": 61,
      "outputs": []
    },
    {
      "cell_type": "code",
      "metadata": {
        "id": "aBcmR4DkVi0F"
      },
      "source": [
        "X_train, X_test, y_train, y_test = train_test_split(X, y, test_size=0.2, random_state=1234)\n",
        "X_train = X_train.astype(int)\n",
        "X_test = X_test.astype(int)\n",
        "y_train = y_train.astype(int)\n",
        "y_test = y_test.astype(int)  "
      ],
      "execution_count": 62,
      "outputs": []
    },
    {
      "cell_type": "code",
      "metadata": {
        "id": "0uBNgxlOAWNu"
      },
      "source": [
        "# Plotting the graph to analyze the effect of k value on our data \n",
        "k_range = range(1,12)\n",
        "scores_list1 = []\n",
        "scores1 = {}\n",
        "for k in k_range:\n",
        "  clf = KNN(k=k)\n",
        "  clf.fit(X_train, y_train)\n",
        "  y_pred = clf.predict(X_test)\n",
        "  scores1[k] = accuracy(y_test, y_pred)\n",
        "  scores_list1.append(accuracy(y_test, y_pred))"
      ],
      "execution_count": 33,
      "outputs": []
    },
    {
      "cell_type": "code",
      "metadata": {
        "colab": {
          "base_uri": "https://localhost:8080/",
          "height": 296
        },
        "id": "KV5e2rAaJho9",
        "outputId": "cb6253fc-c1cd-4e40-f0a3-8d185ac1447d"
      },
      "source": [
        "plt.plot(k_range, scores_list1)\n",
        "plt.xlabel(\" value of K for KNN\")\n",
        "plt.ylabel(\"testing accuracy\")"
      ],
      "execution_count": 34,
      "outputs": [
        {
          "output_type": "execute_result",
          "data": {
            "text/plain": [
              "Text(0, 0.5, 'testing accuracy')"
            ]
          },
          "metadata": {},
          "execution_count": 34
        },
        {
          "output_type": "display_data",
          "data": {
            "image/png": "[encoded data removed]",
            "text/plain": [
              "<Figure size 432x288 with 1 Axes>"
            ]
          },
          "metadata": {
            "needs_background": "light"
          }
        }
      ]
    },
    {
      "cell_type": "code",
      "metadata": {
        "id": "ILBx53lJX9Nc"
      },
      "source": [
        "# Applying the K-fold method to find out the best K\n",
        "from sklearn.model_selection import KFold"
      ],
      "execution_count": 36,
      "outputs": []
    },
    {
      "cell_type": "code",
      "metadata": {
        "id": "7igvEtkmYBve"
      },
      "source": [
        "k = 5 # No of folds \n",
        "kf = KFold(n_splits=k,shuffle=True,random_state=None) # Shuffle and craete k folds"
      ],
      "execution_count": 37,
      "outputs": []
    },
    {
      "cell_type": "code",
      "metadata": {
        "id": "ZOqB-AR6YI4b"
      },
      "source": [
        "# Creating the table to plot the accuracy from k (1 to 11)\n",
        "acc_score = np.zeros((11, 5))"
      ],
      "execution_count": 38,
      "outputs": []
    },
    {
      "cell_type": "code",
      "metadata": {
        "id": "UyggvitMYQ_s"
      },
      "source": [
        "for K in range(1, 12):\n",
        "  j = 0\n",
        "  for train_index , test_index in kf.split(X):\n",
        "    X_train , X_test = X[train_index,:],X[test_index,:]\n",
        "    y_train , y_test = y[train_index] , y[test_index]\n",
        "    X_train = X_train.astype(int)\n",
        "    X_test = X_test.astype(int)\n",
        "    y_train = y_train.astype(int)\n",
        "    y_test = y_test.astype(int)\n",
        "    model = KNN(K)\n",
        "    model.fit(X_train,y_train)\n",
        "    pred_values = model.predict(X_test)\n",
        "    acc = accuracy(pred_values , y_test)\n",
        "    acc_score[K-1][j] = acc\n",
        "    j += 1"
      ],
      "execution_count": 39,
      "outputs": []
    },
    {
      "cell_type": "code",
      "metadata": {
        "colab": {
          "base_uri": "https://localhost:8080/"
        },
        "id": "WEUzh5yMZtT0",
        "outputId": "2aae3058-43c6-485d-fd05-9ca7bddd81c4"
      },
      "source": [
        "# The accuracy Score table for k (1 to 11) and for 5 Kfold\n",
        "acc_score"
      ],
      "execution_count": 40,
      "outputs": [
        {
          "output_type": "execute_result",
          "data": {
            "text/plain": [
              "array([[0.96382429, 0.96382429, 0.95090439, 0.97674419, 0.98186528],\n",
              "       [0.95607235, 0.97674419, 0.96640827, 0.97416021, 0.97409326],\n",
              "       [0.97932817, 0.96899225, 0.97932817, 0.96640827, 0.98186528],\n",
              "       [0.98191214, 0.97932817, 0.98191214, 0.96640827, 0.96632124],\n",
              "       [0.95348837, 0.97932817, 0.97674419, 0.97674419, 0.96373057],\n",
              "       [0.97932817, 0.96382429, 0.97674419, 0.97932817, 0.97409326],\n",
              "       [0.94573643, 0.97932817, 0.97674419, 0.96124031, 0.99222798],\n",
              "       [0.96640827, 0.96124031, 0.97674419, 0.97157623, 0.97150259],\n",
              "       [0.96899225, 0.96640827, 0.97932817, 0.95865633, 0.96373057],\n",
              "       [0.97674419, 0.96382429, 0.96124031, 0.95607235, 0.97409326],\n",
              "       [0.96382429, 0.96124031, 0.96124031, 0.96899225, 0.96373057]])"
            ]
          },
          "metadata": {},
          "execution_count": 40
        }
      ]
    },
    {
      "cell_type": "code",
      "metadata": {
        "id": "trehCHnXY7Qz"
      },
      "source": [
        "# find the mean and returning the sutaible k value from KFold\n",
        "acc_mean = acc_score.mean(1)\n",
        "best_k = np.argmax(acc_mean) + 1\n",
        "heights_accuracy = max(acc_mean) "
      ],
      "execution_count": 55,
      "outputs": []
    },
    {
      "cell_type": "code",
      "metadata": {
        "colab": {
          "base_uri": "https://localhost:8080/"
        },
        "id": "drrP52t3aFG9",
        "outputId": "304faeb9-c6b9-4708-ed1b-0a24291eaa0d"
      },
      "source": [
        "print(f' After 5 folds the best k value: {best_k}')\n",
        "print(f' At k = {best_k} the accuracy is {heights_accuracy*100}')"
      ],
      "execution_count": 70,
      "outputs": [
        {
          "output_type": "stream",
          "name": "stdout",
          "text": [
            " After 5 folds the best k value: 3\n",
            " At k = 3 the accuracy is 97.51844265038626\n"
          ]
        }
      ]
    },
    {
      "cell_type": "code",
      "metadata": {
        "colab": {
          "base_uri": "https://localhost:8080/"
        },
        "id": "20ZaV-q4bChr",
        "outputId": "d004fda2-473e-4401-f67c-37e4815be3c1"
      },
      "source": [
        "#Trainig the model at k = 3\n",
        "model = KNN(best_k)\n",
        "model.fit(X_train,y_train)\n",
        "pred_values = model.predict(X_test)\n",
        "acc = accuracy(pred_values , y_test)\n",
        "print(f'accuracy of the model at k = {best_k} is: {acc * 100}')"
      ],
      "execution_count": 69,
      "outputs": [
        {
          "output_type": "stream",
          "name": "stdout",
          "text": [
            "accuracy of the model at k = 3 is: 97.9328165374677\n"
          ]
        }
      ]
    },
    {
      "cell_type": "code",
      "metadata": {
        "id": "NCDVnJUqqW21",
        "colab": {
          "base_uri": "https://localhost:8080/"
        },
        "outputId": "6df30f74-baa0-46b0-e043-5977de17ac9d"
      },
      "source": [
        "# Loading the test file of Dataset 1 to Test our model\n",
        "path = r'/content/drive/MyDrive/Pattern Rec/test' # use your path\n",
        "new_test_file = glob.glob(path + \"/class_[0-9]_*\")\n",
        "print(f\"total no of files found: {len(new_test_file)}\")"
      ],
      "execution_count": 58,
      "outputs": [
        {
          "output_type": "stream",
          "name": "stdout",
          "text": [
            "total no of files found: 946\n"
          ]
        }
      ]
    },
    {
      "cell_type": "code",
      "metadata": {
        "id": "ssAZgp_srLqW",
        "colab": {
          "base_uri": "https://localhost:8080/"
        },
        "outputId": "a659829d-00e8-4b57-ae5a-f2e2c8f576ab"
      },
      "source": [
        "test_data = pd.DataFrame(columns=range(0, 1025))\n",
        "print(f\"main dataframe created with shape: {test_data.shape}\")"
      ],
      "execution_count": 59,
      "outputs": [
        {
          "output_type": "stream",
          "name": "stdout",
          "text": [
            "main dataframe created with shape: (0, 1025)\n"
          ]
        }
      ]
    },
    {
      "cell_type": "code",
      "metadata": {
        "id": "zNNOVg4TqwnK"
      },
      "source": [
        "for filenames in new_test_file:\n",
        "  # find the class name of the file\n",
        "  class_name = str(filenames[(filenames.find('class_') + 6)])\n",
        "  #print(f\"Sample belongs to class: {class_name}\")\n",
        "  # pick one smaple file from class\n",
        "  temp = pd.read_csv(filenames, names=[\"data\"])\n",
        "  to_append = to_list(temp)\n",
        "  myDict = create_dict(to_append, class_name)\n",
        "  test_data = test_data.append(myDict, ignore_index=True)"
      ],
      "execution_count": 60,
      "outputs": []
    },
    {
      "cell_type": "code",
      "metadata": {
        "colab": {
          "base_uri": "https://localhost:8080/"
        },
        "id": "2djSkgq4r02y",
        "outputId": "6c7ff8a4-479e-40ab-c3a0-29f91e85a085"
      },
      "source": [
        "#Shape of test dataset\n",
        "test_data.shape"
      ],
      "execution_count": 63,
      "outputs": [
        {
          "output_type": "execute_result",
          "data": {
            "text/plain": [
              "(946, 1025)"
            ]
          },
          "metadata": {},
          "execution_count": 63
        }
      ]
    },
    {
      "cell_type": "code",
      "metadata": {
        "id": "x36oQMJ3rJ6y"
      },
      "source": [
        "# Seprating the test data into features and label\n",
        "test_content = test_data[[i for i in range(0, 1024)]].to_numpy()\n",
        "test_label = test_data[[1024]].to_numpy()\n",
        "test_label = test_label.ravel()"
      ],
      "execution_count": 64,
      "outputs": []
    },
    {
      "cell_type": "code",
      "metadata": {
        "id": "J9zKbICotiQc"
      },
      "source": [
        "test_content = test_content.astype(int)\n",
        "test_label = test_label.astype(int)"
      ],
      "execution_count": 65,
      "outputs": []
    },
    {
      "cell_type": "code",
      "metadata": {
        "id": "OticDPl5uHiD"
      },
      "source": [
        "# prediction on Test data of dataset 1 \n",
        "Test_pred = clf.predict(test_content)"
      ],
      "execution_count": 66,
      "outputs": []
    },
    {
      "cell_type": "code",
      "metadata": {
        "colab": {
          "base_uri": "https://localhost:8080/"
        },
        "id": "fqLxBcEyulZQ",
        "outputId": "bbbf29b3-b523-4d8e-81a7-e276fb301f0c"
      },
      "source": [
        "test_acc = accuracy(test_label, Test_pred)\n",
        "print(f'accuracy of the model at k = {best_k} is: {test_acc * 100}')"
      ],
      "execution_count": 68,
      "outputs": [
        {
          "output_type": "stream",
          "name": "stdout",
          "text": [
            "accuracy of the model at k = 3 is: 98.09725158562368\n"
          ]
        }
      ]
    }
  ]
}